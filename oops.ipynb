{
 "cells": [
  {
   "cell_type": "code",
   "execution_count": null,
   "id": "09bc0058-12ba-4cf5-bca8-104f3984c327",
   "metadata": {},
   "outputs": [],
   "source": [
    "# class is a classification of real world entity"
   ]
  },
  {
   "cell_type": "code",
   "execution_count": null,
   "id": "2a2a3bcb-a7db-4cc0-bc12-ecddd30d25a6",
   "metadata": {},
   "outputs": [],
   "source": []
  },
  {
   "cell_type": "code",
   "execution_count": 2,
   "id": "9aeb5997-0127-4f4d-8a0b-50984e07f119",
   "metadata": {},
   "outputs": [],
   "source": [
    "class test:\n",
    "    pass"
   ]
  },
  {
   "cell_type": "code",
   "execution_count": 6,
   "id": "0c4e4f40-4623-47b7-b8d5-0537601cec73",
   "metadata": {},
   "outputs": [],
   "source": [
    "class pwskills:\n",
    "    def welcome_msg(self):       #self parameter is a bind of class or reference of class or pointer of class \n",
    "        print(\"welcome to pwskills\")\n",
    "         "
   ]
  },
  {
   "cell_type": "code",
   "execution_count": 17,
   "id": "143a3328-589f-4ff7-9612-4e40fcd00e85",
   "metadata": {},
   "outputs": [
    {
     "name": "stdout",
     "output_type": "stream",
     "text": [
      "<class '__main__.pwskills'>\n"
     ]
    }
   ],
   "source": [
    "shashi=pwskills()\n",
    "print(type(shashi))"
   ]
  },
  {
   "cell_type": "code",
   "execution_count": 18,
   "id": "f7d7e782-29fd-4dd1-a76a-628380f9a59f",
   "metadata": {},
   "outputs": [
    {
     "name": "stdout",
     "output_type": "stream",
     "text": [
      "welcome to pwskills\n"
     ]
    }
   ],
   "source": [
    "shashi.welcome_msg()    #shashi is here class of instance or classof object or class of variable"
   ]
  },
  {
   "cell_type": "code",
   "execution_count": 10,
   "id": "c1a032c4-f457-48fa-bb31-fe7ef93ee767",
   "metadata": {},
   "outputs": [],
   "source": [
    "ravi=pwskills()\n"
   ]
  },
  {
   "cell_type": "code",
   "execution_count": 11,
   "id": "86eec5a7-7c57-4fb0-8a29-6b700e39f6ec",
   "metadata": {},
   "outputs": [
    {
     "name": "stdout",
     "output_type": "stream",
     "text": [
      "welcome to pwskills\n"
     ]
    }
   ],
   "source": [
    "ravi.welcome_msg()"
   ]
  },
  {
   "cell_type": "code",
   "execution_count": 12,
   "id": "ec720022-8985-4c11-8669-37a79bf89801",
   "metadata": {},
   "outputs": [],
   "source": [
    "pushpa=pwskills()"
   ]
  },
  {
   "cell_type": "code",
   "execution_count": 13,
   "id": "56e272b2-155a-4a08-b294-22ba1520f565",
   "metadata": {},
   "outputs": [
    {
     "name": "stdout",
     "output_type": "stream",
     "text": [
      "welcome to pwskills\n"
     ]
    }
   ],
   "source": [
    "pushpa.welcome_msg()"
   ]
  },
  {
   "cell_type": "code",
   "execution_count": 14,
   "id": "0195f016-1edf-4aae-ae50-81d8b5f66155",
   "metadata": {},
   "outputs": [
    {
     "data": {
      "text/plain": [
       "__main__.pwskills"
      ]
     },
     "execution_count": 14,
     "metadata": {},
     "output_type": "execute_result"
    }
   ],
   "source": [
    "type(ravi)"
   ]
  },
  {
   "cell_type": "code",
   "execution_count": 7,
   "id": "d7a43047-420b-4861-a3e6-4aa174673c18",
   "metadata": {},
   "outputs": [
    {
     "data": {
      "text/plain": [
       "(435, 457, 'shashi@')"
      ]
     },
     "execution_count": 7,
     "metadata": {},
     "output_type": "execute_result"
    }
   ],
   "source": [
    "class pwskills1:\n",
    "    def __init__(self,phone_number,student_id,email_id):\n",
    "        self.phone_number=phone_number\n",
    "        self.student_id=student_id\n",
    "        self.email_id=email_id\n",
    "    def return_student_details(self):\n",
    "        return self.phone_number,self.student_id,self.email_id\n",
    "shashi=pwskills1(435,457,\"shashi@\")\n",
    "        \n",
    "shashi.return_student_details()\n",
    "\n"
   ]
  },
  {
   "cell_type": "code",
   "execution_count": 60,
   "id": "62bc141e-e64a-4675-8939-8df5110c9a20",
   "metadata": {},
   "outputs": [
    {
     "data": {
      "text/plain": [
       "435"
      ]
     },
     "execution_count": 60,
     "metadata": {},
     "output_type": "execute_result"
    }
   ],
   "source": [
    "shashi.phone_number"
   ]
  },
  {
   "cell_type": "code",
   "execution_count": 44,
   "id": "cc6377c8-7ad7-4c80-95df-99deb74eb55b",
   "metadata": {},
   "outputs": [
    {
     "data": {
      "text/plain": [
       "1224456780"
      ]
     },
     "execution_count": 44,
     "metadata": {},
     "output_type": "execute_result"
    }
   ],
   "source": [
    "shashi.phone_number"
   ]
  },
  {
   "cell_type": "code",
   "execution_count": null,
   "id": "b8a5daa1-1304-41e9-8c2e-a61a37ca712b",
   "metadata": {},
   "outputs": [],
   "source": []
  }
 ],
 "metadata": {
  "kernelspec": {
   "display_name": "Python 3 (ipykernel)",
   "language": "python",
   "name": "python3"
  },
  "language_info": {
   "codemirror_mode": {
    "name": "ipython",
    "version": 3
   },
   "file_extension": ".py",
   "mimetype": "text/x-python",
   "name": "python",
   "nbconvert_exporter": "python",
   "pygments_lexer": "ipython3",
   "version": "3.10.8"
  }
 },
 "nbformat": 4,
 "nbformat_minor": 5
}
